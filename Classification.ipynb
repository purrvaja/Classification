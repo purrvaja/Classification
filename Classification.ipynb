{
 "cells": [
  {
   "cell_type": "markdown",
   "id": "51701d23",
   "metadata": {},
   "source": [
    "## Table of Contents\n",
    "<br>\n",
    "\n",
    "* [Data Cleaning](#Data-Cleaning) \n",
    "<br>\n",
    "* [Exploratory Data Analysis](#Exploratory-Data-Analysis)\n",
    "    * [Demographic Factors (age, marriage, job, education)](#Do-demographic-factors-such-as-the-level-of-education,-marital-status,-and-type-of-job-affect-the-success-of-the-marketing-campaign?)\n",
    "    \n",
    "    * [Previous banking behaviour (loan, default)](#Does-a-customer’s-previous-banking-behaviour-such-as-taking-out-a-loan,-or-defaulting-impact-their-decision-on-whether-to-subscribe-to-the-term-deposit-or-not?)\n",
    "    \n",
    "    * [Marketing campaign details (month of contact)](#Does-the-time-period-in-which-the-customer-is-contacted-increase-the-effectiveness-of-the-campaign?)\n",
    "<br>    \n",
    "* [Classification Models](#Classification-Models)\n",
    "    * [Logistic Regression](#1.-Logistic-Regression)   \n",
    "    * [Decision Tree](#2.-Decision-Tree)\n",
    "    * [Random Forest](#3.-Random-Forest)\n",
    "    * [XGBoost](#4.-XGBoost)\n",
    "<br>\n",
    "* [Performance Evaluation](#Performance-Evaluation)     \n"
   ]
  },
  {
   "cell_type": "code",
   "execution_count": 1,
   "id": "95ef3371",
   "metadata": {},
   "outputs": [],
   "source": [
    "#importing libraries\n",
    "import pandas as pd\n",
    "import numpy as np\n",
    "import matplotlib.pyplot as plt\n",
    "import seaborn as sns\n",
    "\n",
    "from sklearn import linear_model\n",
    "from sklearn.model_selection import train_test_split, RandomizedSearchCV\n",
    "from sklearn.feature_selection import RFECV\n",
    "\n",
    "from sklearn import metrics\n",
    "from sklearn import tree\n",
    "from sklearn.tree import DecisionTreeClassifier\n",
    "from sklearn.ensemble import RandomForestClassifier\n",
    "\n",
    "from imblearn.combine import SMOTETomek\n",
    "from imblearn.under_sampling import TomekLinks\n",
    "\n",
    "import xgboost as xgb\n",
    "import squarify\n",
    "from collections import Counter\n",
    "\n",
    "import warnings\n",
    "warnings.filterwarnings('ignore')"
   ]
  },
  {
   "cell_type": "markdown",
   "id": "ce332df9",
   "metadata": {},
   "source": [
    "The 'Bank marketing' dataset contains the results of a telemarketing campaign for a Portuguese bank, regarding whether the contacted clients subscribed to a term deposit or not, based on a number of features including customer demographics and more. \n",
    "<br>\n",
    "\n",
    "Source (UCI machine learning repositary) - https://archive.ics.uci.edu/ml/datasets/bank+marketing"
   ]
  },
  {
   "cell_type": "code",
   "execution_count": 2,
   "id": "477a71d7",
   "metadata": {},
   "outputs": [
    {
     "data": {
      "text/html": [
       "<div>\n",
       "<style scoped>\n",
       "    .dataframe tbody tr th:only-of-type {\n",
       "        vertical-align: middle;\n",
       "    }\n",
       "\n",
       "    .dataframe tbody tr th {\n",
       "        vertical-align: top;\n",
       "    }\n",
       "\n",
       "    .dataframe thead th {\n",
       "        text-align: right;\n",
       "    }\n",
       "</style>\n",
       "<table border=\"1\" class=\"dataframe\">\n",
       "  <thead>\n",
       "    <tr style=\"text-align: right;\">\n",
       "      <th></th>\n",
       "      <th>age</th>\n",
       "      <th>job</th>\n",
       "      <th>marital</th>\n",
       "      <th>education</th>\n",
       "      <th>default</th>\n",
       "      <th>balance</th>\n",
       "      <th>housing</th>\n",
       "      <th>loan</th>\n",
       "      <th>contact</th>\n",
       "      <th>day</th>\n",
       "      <th>month</th>\n",
       "      <th>duration</th>\n",
       "      <th>campaign</th>\n",
       "      <th>pdays</th>\n",
       "      <th>previous</th>\n",
       "      <th>poutcome</th>\n",
       "      <th>y</th>\n",
       "    </tr>\n",
       "  </thead>\n",
       "  <tbody>\n",
       "    <tr>\n",
       "      <th>0</th>\n",
       "      <td>58</td>\n",
       "      <td>management</td>\n",
       "      <td>married</td>\n",
       "      <td>tertiary</td>\n",
       "      <td>no</td>\n",
       "      <td>2143</td>\n",
       "      <td>yes</td>\n",
       "      <td>no</td>\n",
       "      <td>unknown</td>\n",
       "      <td>5</td>\n",
       "      <td>may</td>\n",
       "      <td>261</td>\n",
       "      <td>1</td>\n",
       "      <td>-1</td>\n",
       "      <td>0</td>\n",
       "      <td>unknown</td>\n",
       "      <td>no</td>\n",
       "    </tr>\n",
       "    <tr>\n",
       "      <th>1</th>\n",
       "      <td>44</td>\n",
       "      <td>technician</td>\n",
       "      <td>single</td>\n",
       "      <td>secondary</td>\n",
       "      <td>no</td>\n",
       "      <td>29</td>\n",
       "      <td>yes</td>\n",
       "      <td>no</td>\n",
       "      <td>unknown</td>\n",
       "      <td>5</td>\n",
       "      <td>may</td>\n",
       "      <td>151</td>\n",
       "      <td>1</td>\n",
       "      <td>-1</td>\n",
       "      <td>0</td>\n",
       "      <td>unknown</td>\n",
       "      <td>no</td>\n",
       "    </tr>\n",
       "    <tr>\n",
       "      <th>2</th>\n",
       "      <td>33</td>\n",
       "      <td>entrepreneur</td>\n",
       "      <td>married</td>\n",
       "      <td>secondary</td>\n",
       "      <td>no</td>\n",
       "      <td>2</td>\n",
       "      <td>yes</td>\n",
       "      <td>yes</td>\n",
       "      <td>unknown</td>\n",
       "      <td>5</td>\n",
       "      <td>may</td>\n",
       "      <td>76</td>\n",
       "      <td>1</td>\n",
       "      <td>-1</td>\n",
       "      <td>0</td>\n",
       "      <td>unknown</td>\n",
       "      <td>no</td>\n",
       "    </tr>\n",
       "    <tr>\n",
       "      <th>3</th>\n",
       "      <td>47</td>\n",
       "      <td>blue-collar</td>\n",
       "      <td>married</td>\n",
       "      <td>unknown</td>\n",
       "      <td>no</td>\n",
       "      <td>1506</td>\n",
       "      <td>yes</td>\n",
       "      <td>no</td>\n",
       "      <td>unknown</td>\n",
       "      <td>5</td>\n",
       "      <td>may</td>\n",
       "      <td>92</td>\n",
       "      <td>1</td>\n",
       "      <td>-1</td>\n",
       "      <td>0</td>\n",
       "      <td>unknown</td>\n",
       "      <td>no</td>\n",
       "    </tr>\n",
       "    <tr>\n",
       "      <th>4</th>\n",
       "      <td>33</td>\n",
       "      <td>unknown</td>\n",
       "      <td>single</td>\n",
       "      <td>unknown</td>\n",
       "      <td>no</td>\n",
       "      <td>1</td>\n",
       "      <td>no</td>\n",
       "      <td>no</td>\n",
       "      <td>unknown</td>\n",
       "      <td>5</td>\n",
       "      <td>may</td>\n",
       "      <td>198</td>\n",
       "      <td>1</td>\n",
       "      <td>-1</td>\n",
       "      <td>0</td>\n",
       "      <td>unknown</td>\n",
       "      <td>no</td>\n",
       "    </tr>\n",
       "  </tbody>\n",
       "</table>\n",
       "</div>"
      ],
      "text/plain": [
       "   age           job  marital  education default  balance housing loan  \\\n",
       "0   58    management  married   tertiary      no     2143     yes   no   \n",
       "1   44    technician   single  secondary      no       29     yes   no   \n",
       "2   33  entrepreneur  married  secondary      no        2     yes  yes   \n",
       "3   47   blue-collar  married    unknown      no     1506     yes   no   \n",
       "4   33       unknown   single    unknown      no        1      no   no   \n",
       "\n",
       "   contact  day month  duration  campaign  pdays  previous poutcome   y  \n",
       "0  unknown    5   may       261         1     -1         0  unknown  no  \n",
       "1  unknown    5   may       151         1     -1         0  unknown  no  \n",
       "2  unknown    5   may        76         1     -1         0  unknown  no  \n",
       "3  unknown    5   may        92         1     -1         0  unknown  no  \n",
       "4  unknown    5   may       198         1     -1         0  unknown  no  "
      ]
     },
     "execution_count": 2,
     "metadata": {},
     "output_type": "execute_result"
    }
   ],
   "source": [
    "#importing the dataset \n",
    "df = pd.read_csv(\"bank-full.csv\", delimiter = \";\")\n",
    "df.head()"
   ]
  },
  {
   "cell_type": "markdown",
   "id": "ff975abc",
   "metadata": {},
   "source": [
    "### Data Cleaning"
   ]
  },
  {
   "cell_type": "code",
   "execution_count": 140,
   "id": "e4b1fa79",
   "metadata": {},
   "outputs": [
    {
     "data": {
      "text/plain": [
       "(45211, 17)"
      ]
     },
     "execution_count": 140,
     "metadata": {},
     "output_type": "execute_result"
    }
   ],
   "source": [
    "df.shape"
   ]
  },
  {
   "cell_type": "code",
   "execution_count": 141,
   "id": "00870056",
   "metadata": {},
   "outputs": [
    {
     "name": "stdout",
     "output_type": "stream",
     "text": [
      "<class 'pandas.core.frame.DataFrame'>\n",
      "RangeIndex: 45211 entries, 0 to 45210\n",
      "Data columns (total 17 columns):\n",
      " #   Column     Non-Null Count  Dtype \n",
      "---  ------     --------------  ----- \n",
      " 0   age        45211 non-null  int64 \n",
      " 1   job        45211 non-null  object\n",
      " 2   marital    45211 non-null  object\n",
      " 3   education  45211 non-null  object\n",
      " 4   default    45211 non-null  object\n",
      " 5   balance    45211 non-null  int64 \n",
      " 6   housing    45211 non-null  object\n",
      " 7   loan       45211 non-null  object\n",
      " 8   contact    45211 non-null  object\n",
      " 9   day        45211 non-null  int64 \n",
      " 10  month      45211 non-null  object\n",
      " 11  duration   45211 non-null  int64 \n",
      " 12  campaign   45211 non-null  int64 \n",
      " 13  pdays      45211 non-null  int64 \n",
      " 14  previous   45211 non-null  int64 \n",
      " 15  poutcome   45211 non-null  object\n",
      " 16  y          45211 non-null  object\n",
      "dtypes: int64(7), object(10)\n",
      "memory usage: 5.9+ MB\n"
     ]
    }
   ],
   "source": [
    "df.info()"
   ]
  },
  {
   "cell_type": "code",
   "execution_count": 142,
   "id": "b5225afd",
   "metadata": {},
   "outputs": [
    {
     "data": {
      "text/html": [
       "<div>\n",
       "<style scoped>\n",
       "    .dataframe tbody tr th:only-of-type {\n",
       "        vertical-align: middle;\n",
       "    }\n",
       "\n",
       "    .dataframe tbody tr th {\n",
       "        vertical-align: top;\n",
       "    }\n",
       "\n",
       "    .dataframe thead th {\n",
       "        text-align: right;\n",
       "    }\n",
       "</style>\n",
       "<table border=\"1\" class=\"dataframe\">\n",
       "  <thead>\n",
       "    <tr style=\"text-align: right;\">\n",
       "      <th></th>\n",
       "      <th>age</th>\n",
       "      <th>balance</th>\n",
       "      <th>day</th>\n",
       "      <th>duration</th>\n",
       "      <th>campaign</th>\n",
       "      <th>pdays</th>\n",
       "      <th>previous</th>\n",
       "    </tr>\n",
       "  </thead>\n",
       "  <tbody>\n",
       "    <tr>\n",
       "      <th>count</th>\n",
       "      <td>45211.000000</td>\n",
       "      <td>45211.000000</td>\n",
       "      <td>45211.000000</td>\n",
       "      <td>45211.000000</td>\n",
       "      <td>45211.000000</td>\n",
       "      <td>45211.000000</td>\n",
       "      <td>45211.000000</td>\n",
       "    </tr>\n",
       "    <tr>\n",
       "      <th>mean</th>\n",
       "      <td>40.936210</td>\n",
       "      <td>1362.272058</td>\n",
       "      <td>15.806419</td>\n",
       "      <td>258.163080</td>\n",
       "      <td>2.763841</td>\n",
       "      <td>40.197828</td>\n",
       "      <td>0.580323</td>\n",
       "    </tr>\n",
       "    <tr>\n",
       "      <th>std</th>\n",
       "      <td>10.618762</td>\n",
       "      <td>3044.765829</td>\n",
       "      <td>8.322476</td>\n",
       "      <td>257.527812</td>\n",
       "      <td>3.098021</td>\n",
       "      <td>100.128746</td>\n",
       "      <td>2.303441</td>\n",
       "    </tr>\n",
       "    <tr>\n",
       "      <th>min</th>\n",
       "      <td>18.000000</td>\n",
       "      <td>-8019.000000</td>\n",
       "      <td>1.000000</td>\n",
       "      <td>0.000000</td>\n",
       "      <td>1.000000</td>\n",
       "      <td>-1.000000</td>\n",
       "      <td>0.000000</td>\n",
       "    </tr>\n",
       "    <tr>\n",
       "      <th>25%</th>\n",
       "      <td>33.000000</td>\n",
       "      <td>72.000000</td>\n",
       "      <td>8.000000</td>\n",
       "      <td>103.000000</td>\n",
       "      <td>1.000000</td>\n",
       "      <td>-1.000000</td>\n",
       "      <td>0.000000</td>\n",
       "    </tr>\n",
       "    <tr>\n",
       "      <th>50%</th>\n",
       "      <td>39.000000</td>\n",
       "      <td>448.000000</td>\n",
       "      <td>16.000000</td>\n",
       "      <td>180.000000</td>\n",
       "      <td>2.000000</td>\n",
       "      <td>-1.000000</td>\n",
       "      <td>0.000000</td>\n",
       "    </tr>\n",
       "    <tr>\n",
       "      <th>75%</th>\n",
       "      <td>48.000000</td>\n",
       "      <td>1428.000000</td>\n",
       "      <td>21.000000</td>\n",
       "      <td>319.000000</td>\n",
       "      <td>3.000000</td>\n",
       "      <td>-1.000000</td>\n",
       "      <td>0.000000</td>\n",
       "    </tr>\n",
       "    <tr>\n",
       "      <th>max</th>\n",
       "      <td>95.000000</td>\n",
       "      <td>102127.000000</td>\n",
       "      <td>31.000000</td>\n",
       "      <td>4918.000000</td>\n",
       "      <td>63.000000</td>\n",
       "      <td>871.000000</td>\n",
       "      <td>275.000000</td>\n",
       "    </tr>\n",
       "  </tbody>\n",
       "</table>\n",
       "</div>"
      ],
      "text/plain": [
       "                age        balance           day      duration      campaign  \\\n",
       "count  45211.000000   45211.000000  45211.000000  45211.000000  45211.000000   \n",
       "mean      40.936210    1362.272058     15.806419    258.163080      2.763841   \n",
       "std       10.618762    3044.765829      8.322476    257.527812      3.098021   \n",
       "min       18.000000   -8019.000000      1.000000      0.000000      1.000000   \n",
       "25%       33.000000      72.000000      8.000000    103.000000      1.000000   \n",
       "50%       39.000000     448.000000     16.000000    180.000000      2.000000   \n",
       "75%       48.000000    1428.000000     21.000000    319.000000      3.000000   \n",
       "max       95.000000  102127.000000     31.000000   4918.000000     63.000000   \n",
       "\n",
       "              pdays      previous  \n",
       "count  45211.000000  45211.000000  \n",
       "mean      40.197828      0.580323  \n",
       "std      100.128746      2.303441  \n",
       "min       -1.000000      0.000000  \n",
       "25%       -1.000000      0.000000  \n",
       "50%       -1.000000      0.000000  \n",
       "75%       -1.000000      0.000000  \n",
       "max      871.000000    275.000000  "
      ]
     },
     "execution_count": 142,
     "metadata": {},
     "output_type": "execute_result"
    }
   ],
   "source": [
    "df.describe()"
   ]
  },
  {
   "cell_type": "markdown",
   "id": "a5b00d5c",
   "metadata": {},
   "source": [
    "**Missing values**"
   ]
  },
  {
   "cell_type": "code",
   "execution_count": 143,
   "id": "c365888f",
   "metadata": {},
   "outputs": [
    {
     "data": {
      "text/plain": [
       "age          0\n",
       "job          0\n",
       "marital      0\n",
       "education    0\n",
       "default      0\n",
       "balance      0\n",
       "housing      0\n",
       "loan         0\n",
       "contact      0\n",
       "day          0\n",
       "month        0\n",
       "duration     0\n",
       "campaign     0\n",
       "pdays        0\n",
       "previous     0\n",
       "poutcome     0\n",
       "y            0\n",
       "dtype: int64"
      ]
     },
     "execution_count": 143,
     "metadata": {},
     "output_type": "execute_result"
    }
   ],
   "source": [
    "df.isnull().sum()"
   ]
  },
  {
   "cell_type": "markdown",
   "id": "1975564a",
   "metadata": {},
   "source": [
    "There are no missing values in the dataset"
   ]
  },
  {
   "cell_type": "markdown",
   "id": "ba446388",
   "metadata": {},
   "source": [
    "**Distribution of the target variable**"
   ]
  },
  {
   "cell_type": "code",
   "execution_count": 144,
   "id": "aa691ccb",
   "metadata": {},
   "outputs": [
    {
     "data": {
      "text/plain": [
       "no     39922\n",
       "yes     5289\n",
       "Name: y, dtype: int64"
      ]
     },
     "execution_count": 144,
     "metadata": {},
     "output_type": "execute_result"
    }
   ],
   "source": [
    "df[\"y\"].value_counts()"
   ]
  },
  {
   "cell_type": "code",
   "execution_count": 146,
   "id": "2cfb3443",
   "metadata": {},
   "outputs": [
    {
     "data": {
      "image/png": "[encoded data removed]",
      "text/plain": [
       "<Figure size 432x288 with 1 Axes>"
      ]
     },
     "metadata": {
      "needs_background": "light"
     },
     "output_type": "display_data"
    },
    {
     "name": "stdout",
     "output_type": "stream",
     "text": [
      "Proportion of observations that were successful:  11.7 %\n"
     ]
    }
   ],
   "source": [
    "plt.figure(figsize=(6,4))\n",
    "sns.countplot(x=\"y\", data=df)\n",
    "plt.title(\"Imbalance of the target variable\")\n",
    "plt.show()\n",
    "\n",
    "print(\"Proportion of observations that were successful: \", \n",
    "     round(df['y'].value_counts()[1] / (df['y'].value_counts()[0] + df['y'].value_counts()[1]) *100, 2), \"%\")"
   ]
  },
  {
   "cell_type": "markdown",
   "id": "5f5922e3",
   "metadata": {},
   "source": [
    "The target variable is highly imbalanced which would cause bias and inaccuracy in the results. "
   ]
  },
  {
   "cell_type": "markdown",
   "id": "1e5def73",
   "metadata": {},
   "source": [
    "**Outliers**"
   ]
  },
  {
   "cell_type": "code",
   "execution_count": 148,
   "id": "59efe875",
   "metadata": {},
   "outputs": [
    {
     "data": {
      "image/png": "[encoded data removed]",
      "text/plain": [
       "<Figure size 576x432 with 1 Axes>"
      ]
     },
     "metadata": {
      "needs_background": "light"
     },
     "output_type": "display_data"
    }
   ],
   "source": [
    "plt.figure(figsize=(8,6))\n",
    "sns.boxplot(data = df)\n",
    "plt.xticks(rotation = 90)\n",
    "plt.show()"
   ]
  },
  {
   "cell_type": "code",
   "execution_count": 152,
   "id": "6afac640",
   "metadata": {},
   "outputs": [
    {
     "name": "stdout",
     "output_type": "stream",
     "text": [
      "Number of outliers in the dataset: 0\n"
     ]
    }
   ],
   "source": [
    "#removing the outliers\n",
    "\n",
    "outliers_list = []\n",
    "for feature in df.keys():\n",
    "    \n",
    "    if df[feature].dtype != \"object\":\n",
    "    \n",
    "        # Calculate Q1 (25th percentile) for each feature\n",
    "        Q1 = np.percentile(df[feature], 25)\n",
    "\n",
    "        # Calculate Q3 (75th percentile) for each feature\n",
    "        Q3 = np.percentile(df[feature], 75)\n",
    "\n",
    "        # Using 1.5* Interquartile range to define the upper and lower boundaries\n",
    "        step = (Q3 - Q1) * 1.5\n",
    "\n",
    "duplicate_outliers_list = list(set([x for x in outliers_list if outliers_list.count(x) >= 2]))\n",
    "duplicate_outliers_list.sort()\n",
    "\n",
    "outliers  = duplicate_outliers_list\n",
    "\n",
    "# Remove the outliers\n",
    "df = df.drop(df.index[outliers]).reset_index(drop = True)\n",
    "\n",
    "print(\"Number of outliers in the data that was removed: \", len(outliers))"
   ]
  },
  {
   "cell_type": "markdown",
   "id": "46a478c6",
   "metadata": {},
   "source": [
    "**Relationship between variables**"
   ]
  },
  {
   "cell_type": "code",
   "execution_count": 153,
   "id": "0c01d4a0",
   "metadata": {},
   "outputs": [
    {
     "data": {
      "image/png": "[encoded data removed]",
      "text/plain": [
       "<Figure size 576x360 with 2 Axes>"
      ]
     },
     "metadata": {
      "needs_background": "light"
     },
     "output_type": "display_data"
    }
   ],
   "source": [
    "#correlation heatmap for the numerical variables\n",
    "\n",
    "plt.figure(figsize = (8,5))\n",
    "\n",
    "mask = np.triu(np.ones_like(df.corr()))\n",
    "sns.heatmap(df.corr(), annot = True, \n",
    "            mask=mask, cmap = \"crest\", vmax = 1)\n",
    "\n",
    "plt.title('Correlation Heatmap', fontsize = 15)\n",
    "\n",
    "plt.show()"
   ]
  },
  {
   "cell_type": "markdown",
   "id": "bd77e261",
   "metadata": {},
   "source": [
    "There is no sign of multicollinearity in the data"
   ]
  },
  {
   "cell_type": "markdown",
   "id": "93a40010",
   "metadata": {},
   "source": [
    "### Exploratory Data Analysis"
   ]
  },
  {
   "cell_type": "markdown",
   "id": "b61af82c",
   "metadata": {},
   "source": [
    "#### Do demographic factors such as the level of education, marital status, and type of job affect the success of the marketing campaign? "
   ]
  },
  {
   "cell_type": "markdown",
   "id": "7398063d",
   "metadata": {},
   "source": [
    "##### Age"
   ]
  },
  {
   "cell_type": "code",
   "execution_count": 154,
   "id": "6b8b97fc",
   "metadata": {},
   "outputs": [
    {
     "data": {
      "image/png": "[encoded data removed]",
      "text/plain": [
       "<Figure size 576x360 with 1 Axes>"
      ]
     },
     "metadata": {
      "needs_background": "light"
     },
     "output_type": "display_data"
    },
    {
     "name": "stdout",
     "output_type": "stream",
     "text": [
      "Average age of customers: \n",
      " y\n",
      "no     40.838986\n",
      "yes    41.670070\n",
      "Name: age, dtype: float64\n"
     ]
    }
   ],
   "source": [
    "# Plotting a histogram of age distribution for customers\n",
    "plt.figure(figsize = (8,5))\n",
    "sns.histplot(data=df, x='age', hue='y', kde=True)\n",
    "\n",
    "plt.title('Age Distribution of Customers Who Subscribed and Did Not Subscribe to Term Deposit')\n",
    "plt.xlabel('Age')\n",
    "plt.ylabel('Count')\n",
    "plt.show()\n",
    "\n",
    "\n",
    "print(\"Average age of customers: \\n\",  \n",
    "      df.groupby('y')['age'].mean())"
   ]
  },
  {
   "cell_type": "markdown",
   "id": "921e11a6",
   "metadata": {},
   "source": [
    "> - The mean age is 40-42 for both categories\n",
    "> - It seems that there is no distinct relationship between the age of the clients and whether or not they subscribed to the term deposit. "
   ]
  },
  {
   "cell_type": "markdown",
   "id": "c29c7bb5",
   "metadata": {},
   "source": [
    "##### Job Type"
   ]
  },
  {
   "cell_type": "code",
   "execution_count": 155,
   "id": "92844c10",
   "metadata": {},
   "outputs": [
    {
     "data": {
      "text/html": [
       "<div>\n",
       "<style scoped>\n",
       "    .dataframe tbody tr th:only-of-type {\n",
       "        vertical-align: middle;\n",
       "    }\n",
       "\n",
       "    .dataframe tbody tr th {\n",
       "        vertical-align: top;\n",
       "    }\n",
       "\n",
       "    .dataframe thead th {\n",
       "        text-align: right;\n",
       "    }\n",
       "</style>\n",
       "<table border=\"1\" class=\"dataframe\">\n",
       "  <thead>\n",
       "    <tr style=\"text-align: right;\">\n",
       "      <th>y</th>\n",
       "      <th>no</th>\n",
       "      <th>yes</th>\n",
       "      <th>% subscribed</th>\n",
       "    </tr>\n",
       "    <tr>\n",
       "      <th>job</th>\n",
       "      <th></th>\n",
       "      <th></th>\n",
       "      <th></th>\n",
       "    </tr>\n",
       "  </thead>\n",
       "  <tbody>\n",
       "    <tr>\n",
       "      <th>student</th>\n",
       "      <td>0.713220</td>\n",
       "      <td>0.286780</td>\n",
       "      <td>28.678038</td>\n",
       "    </tr>\n",
       "    <tr>\n",
       "      <th>retired</th>\n",
       "      <td>0.772085</td>\n",
       "      <td>0.227915</td>\n",
       "      <td>22.791519</td>\n",
       "    </tr>\n",
       "    <tr>\n",
       "      <th>unemployed</th>\n",
       "      <td>0.844973</td>\n",
       "      <td>0.155027</td>\n",
       "      <td>15.502686</td>\n",
       "    </tr>\n",
       "    <tr>\n",
       "      <th>management</th>\n",
       "      <td>0.862444</td>\n",
       "      <td>0.137556</td>\n",
       "      <td>13.755551</td>\n",
       "    </tr>\n",
       "    <tr>\n",
       "      <th>admin.</th>\n",
       "      <td>0.877973</td>\n",
       "      <td>0.122027</td>\n",
       "      <td>12.202669</td>\n",
       "    </tr>\n",
       "    <tr>\n",
       "      <th>self-employed</th>\n",
       "      <td>0.881571</td>\n",
       "      <td>0.118429</td>\n",
       "      <td>11.842939</td>\n",
       "    </tr>\n",
       "    <tr>\n",
       "      <th>unknown</th>\n",
       "      <td>0.881944</td>\n",
       "      <td>0.118056</td>\n",
       "      <td>11.805556</td>\n",
       "    </tr>\n",
       "    <tr>\n",
       "      <th>technician</th>\n",
       "      <td>0.889430</td>\n",
       "      <td>0.110570</td>\n",
       "      <td>11.056996</td>\n",
       "    </tr>\n",
       "    <tr>\n",
       "      <th>services</th>\n",
       "      <td>0.911170</td>\n",
       "      <td>0.088830</td>\n",
       "      <td>8.883004</td>\n",
       "    </tr>\n",
       "    <tr>\n",
       "      <th>housemaid</th>\n",
       "      <td>0.912097</td>\n",
       "      <td>0.087903</td>\n",
       "      <td>8.790323</td>\n",
       "    </tr>\n",
       "    <tr>\n",
       "      <th>entrepreneur</th>\n",
       "      <td>0.917283</td>\n",
       "      <td>0.082717</td>\n",
       "      <td>8.271688</td>\n",
       "    </tr>\n",
       "    <tr>\n",
       "      <th>blue-collar</th>\n",
       "      <td>0.927250</td>\n",
       "      <td>0.072750</td>\n",
       "      <td>7.274969</td>\n",
       "    </tr>\n",
       "  </tbody>\n",
       "</table>\n",
       "</div>"
      ],
      "text/plain": [
       "y                    no       yes  % subscribed\n",
       "job                                            \n",
       "student        0.713220  0.286780     28.678038\n",
       "retired        0.772085  0.227915     22.791519\n",
       "unemployed     0.844973  0.155027     15.502686\n",
       "management     0.862444  0.137556     13.755551\n",
       "admin.         0.877973  0.122027     12.202669\n",
       "self-employed  0.881571  0.118429     11.842939\n",
       "unknown        0.881944  0.118056     11.805556\n",
       "technician     0.889430  0.110570     11.056996\n",
       "services       0.911170  0.088830      8.883004\n",
       "housemaid      0.912097  0.087903      8.790323\n",
       "entrepreneur   0.917283  0.082717      8.271688\n",
       "blue-collar    0.927250  0.072750      7.274969"
      ]
     },
     "execution_count": 155,
     "metadata": {},
     "output_type": "execute_result"
    }
   ],
   "source": [
    "# Finding the percentage of subscribers by their type of job\n",
    "job = pd.crosstab(df['job'], df['y'], normalize='index')\n",
    "\n",
    "job_sorted = job.copy()\n",
    "job_sorted['% subscribed'] = job_sorted['yes'] / (job_sorted['yes'] + job_sorted['no']) * 100\n",
    "job_sorted = job_sorted.sort_values('% subscribed', ascending=False)\n",
    "\n",
    "\n",
    "job_sorted"
   ]
  },
  {
   "cell_type": "code",
   "execution_count": 156,
   "id": "23c52c3a",
   "metadata": {},
   "outputs": [
    {
     "data": {
      "image/png": "[encoded data removed]",
      "text/plain": [
       "<Figure size 576x432 with 1 Axes>"
      ]
     },
     "metadata": {
      "needs_background": "light"
     },
     "output_type": "display_data"
    }
   ],
   "source": [
    "# Plotting a stacked bar chart of subscription status by job type\n",
    "job.plot(kind='bar', stacked=True)\n",
    "\n",
    "plt.title('Subscription Status by Job Type')\n",
    "plt.xlabel('Job Type')\n",
    "plt.ylabel('Proportion')\n",
    "plt.legend(title='Subscription to Term Deposit')\n",
    "\n",
    "plt.show()"
   ]
  },
  {
   "cell_type": "markdown",
   "id": "6e63c8b7",
   "metadata": {},
   "source": [
    "> - **Students** and **retired** customers are the ones that are most likely to subscribe to the term deposit based on the marketing campaign. \n",
    "> - This is followed by customers who are unemployed and those from the job cadres of management and admin. \n",
    "> - Customers from the job cadres of **blue-collar, entreprenuer, and housemaid** are the least likely to subscribe to the bank's term deposit. "
   ]
  },
  {
   "cell_type": "markdown",
   "id": "10eae2a4",
   "metadata": {},
   "source": [
    "##### Marital Status"
   ]
  },
  {
   "cell_type": "code",
   "execution_count": 157,
   "id": "323fb586",
   "metadata": {},
   "outputs": [
    {
     "data": {
      "text/html": [
       "<div>\n",
       "<style scoped>\n",
       "    .dataframe tbody tr th:only-of-type {\n",
       "        vertical-align: middle;\n",
       "    }\n",
       "\n",
       "    .dataframe tbody tr th {\n",
       "        vertical-align: top;\n",
       "    }\n",
       "\n",
       "    .dataframe thead th {\n",
       "        text-align: right;\n",
       "    }\n",
       "</style>\n",
       "<table border=\"1\" class=\"dataframe\">\n",
       "  <thead>\n",
       "    <tr style=\"text-align: right;\">\n",
       "      <th>y</th>\n",
       "      <th>no</th>\n",
       "      <th>yes</th>\n",
       "      <th>% subscribed</th>\n",
       "    </tr>\n",
       "    <tr>\n",
       "      <th>marital</th>\n",
       "      <th></th>\n",
       "      <th></th>\n",
       "      <th></th>\n",
       "    </tr>\n",
       "  </thead>\n",
       "  <tbody>\n",
       "    <tr>\n",
       "      <th>single</th>\n",
       "      <td>10878</td>\n",
       "      <td>1912</td>\n",
       "      <td>14.949179</td>\n",
       "    </tr>\n",
       "    <tr>\n",
       "      <th>divorced</th>\n",
       "      <td>4585</td>\n",
       "      <td>622</td>\n",
       "      <td>11.945458</td>\n",
       "    </tr>\n",
       "    <tr>\n",
       "      <th>married</th>\n",
       "      <td>24459</td>\n",
       "      <td>2755</td>\n",
       "      <td>10.123466</td>\n",
       "    </tr>\n",
       "  </tbody>\n",
       "</table>\n",
       "</div>"
      ],
      "text/plain": [
       "y            no   yes  % subscribed\n",
       "marital                            \n",
       "single    10878  1912     14.949179\n",
       "divorced   4585   622     11.945458\n",
       "married   24459  2755     10.123466"
      ]
     },
     "execution_count": 157,
     "metadata": {},
     "output_type": "execute_result"
    }
   ],
   "source": [
    "# Finding the percentage of subscribers by their marital status\n",
    "marital = pd.crosstab(df['marital'], df['y'])\n",
    "\n",
    "marital['% subscribed'] = marital['yes'] / (marital['yes'] + marital['no']) * 100\n",
    "marital_sorted = marital.sort_values('% subscribed', ascending=False)\n",
    "\n",
    "marital_sorted"
   ]
  },
  {
   "cell_type": "code",
   "execution_count": 330,
   "id": "7838a8f8",
   "metadata": {},
   "outputs": [
    {
     "data": {
      "image/png": "[encoded data removed]",
      "text/plain": [
       "<Figure size 576x360 with 1 Axes>"
      ]
     },
     "metadata": {
      "needs_background": "light"
     },
     "output_type": "display_data"
    }
   ],
   "source": [
    "# Plotting the percentage of subscribers by marital status\n",
    "plt.figure(figsize=(8,5))\n",
    "ax = marital_sorted['% subscribed'].plot(kind='barh')\n",
    "\n",
    "ax.set_xlabel('% Subscribed')\n",
    "ax.set_ylabel('Marital Status')\n",
    "plt.title('Likeliness to subscribe based on marital status')\n",
    "\n",
    "#plt.savefig(\"Classification-Marital.png\")\n",
    "plt.show()"
   ]
  },
  {
   "cell_type": "markdown",
   "id": "8ba8d9ed",
   "metadata": {},
   "source": [
    "> - Customers who are **single** are most likely to subscribe to the term deposit. \n",
    "> - Customers who are **married** are the least likely to subscribe to the term deposit. "
   ]
  },
  {
   "cell_type": "markdown",
   "id": "724a1e52",
   "metadata": {},
   "source": [
    "##### Level of Education"
   ]
  },
  {
   "cell_type": "code",
   "execution_count": 159,
   "id": "9bb2c68b",
   "metadata": {},
   "outputs": [
    {
     "data": {
      "text/html": [
       "<div>\n",
       "<style scoped>\n",
       "    .dataframe tbody tr th:only-of-type {\n",
       "        vertical-align: middle;\n",
       "    }\n",
       "\n",
       "    .dataframe tbody tr th {\n",
       "        vertical-align: top;\n",
       "    }\n",
       "\n",
       "    .dataframe thead th {\n",
       "        text-align: right;\n",
       "    }\n",
       "</style>\n",
       "<table border=\"1\" class=\"dataframe\">\n",
       "  <thead>\n",
       "    <tr style=\"text-align: right;\">\n",
       "      <th>y</th>\n",
       "      <th>no</th>\n",
       "      <th>yes</th>\n",
       "      <th>% subscribed</th>\n",
       "    </tr>\n",
       "    <tr>\n",
       "      <th>education</th>\n",
       "      <th></th>\n",
       "      <th></th>\n",
       "      <th></th>\n",
       "    </tr>\n",
       "  </thead>\n",
       "  <tbody>\n",
       "    <tr>\n",
       "      <th>tertiary</th>\n",
       "      <td>11305</td>\n",
       "      <td>1996</td>\n",
       "      <td>15.006390</td>\n",
       "    </tr>\n",
       "    <tr>\n",
       "      <th>unknown</th>\n",
       "      <td>1605</td>\n",
       "      <td>252</td>\n",
       "      <td>13.570275</td>\n",
       "    </tr>\n",
       "    <tr>\n",
       "      <th>secondary</th>\n",
       "      <td>20752</td>\n",
       "      <td>2450</td>\n",
       "      <td>10.559435</td>\n",
       "    </tr>\n",
       "    <tr>\n",
       "      <th>primary</th>\n",
       "      <td>6260</td>\n",
       "      <td>591</td>\n",
       "      <td>8.626478</td>\n",
       "    </tr>\n",
       "  </tbody>\n",
       "</table>\n",
       "</div>"
      ],
      "text/plain": [
       "y             no   yes  % subscribed\n",
       "education                           \n",
       "tertiary   11305  1996     15.006390\n",
       "unknown     1605   252     13.570275\n",
       "secondary  20752  2450     10.559435\n",
       "primary     6260   591      8.626478"
      ]
     },
     "execution_count": 159,
     "metadata": {},
     "output_type": "execute_result"
    }
   ],
   "source": [
    "# Finding the percentage of subscribers based on level of education\n",
    "edu = pd.crosstab(df['education'], df['y'])\n",
    "\n",
    "edu['% subscribed'] = edu['yes'] / (edu['yes'] + edu['no']) * 100\n",
    "edu_sorted = edu.sort_values('% subscribed', ascending=False)\n",
    "\n",
    "edu_sorted"
   ]
  },
  {
   "cell_type": "code",
   "execution_count": 329,
   "id": "9dc20912",
   "metadata": {},
   "outputs": [
    {
     "data": {
      "image/png": "[encoded data removed]",
      "text/plain": [
       "<Figure size 576x432 with 1 Axes>"
      ]
     },
     "metadata": {
      "needs_background": "light"
     },
     "output_type": "display_data"
    }
   ],
   "source": [
    "subscribers_by_edu = df[df['y'] == 'yes'].groupby('education')['y'].count()\n",
    "\n",
    "# Plotting a treemap for the number of customers who subscribed based on level of education\n",
    "plt.figure(figsize=(8, 6))\n",
    "colors = plt.cm.GnBu(subscribers_by_edu / float(max(subscribers_by_edu)))\n",
    "squarify.plot(sizes=subscribers_by_edu, label=subscribers_by_edu.index, color=colors, alpha=0.8)\n",
    "\n",
    "plt.title(\"Likeliness to subscribe based on the level of education\", pad=10)\n",
    "\n",
    "plt.axis('off')\n",
    "#plt.savefig(\"Classification-Education.png\")\n",
    "plt.show()"
   ]
  },
  {
   "cell_type": "markdown",
   "id": "3540e043",
   "metadata": {},
   "source": [
    "> - Customers who have an education of **tertiary and secondary** level are the most likely to subscribe to the term deposit. \n",
    "> - Customers with a **primary** education level are not very likely to subscribe. "
   ]
  },
  {
   "cell_type": "markdown",
   "id": "2ab1fed7",
   "metadata": {},
   "source": [
    "#### Does a customer’s previous banking behaviour such as taking out a loan, or defaulting impact their decision on whether to subscribe to the term deposit or not?"
   ]
  },
  {
   "cell_type": "markdown",
   "id": "32d5b88e",
   "metadata": {},
   "source": [
    "##### Loan Status"
   ]
  },
  {
   "cell_type": "markdown",
   "id": "a2a6f157",
   "metadata": {},
   "source": [
    "Index: <br>\n",
    "loan - Personal loan <br>\n",
    "housing - Housing loan"
   ]
  },
  {
   "cell_type": "code",
   "execution_count": 161,
   "id": "913f21dd",
   "metadata": {},
   "outputs": [
    {
     "data": {
      "text/html": [
       "<div>\n",
       "<style scoped>\n",
       "    .dataframe tbody tr th:only-of-type {\n",
       "        vertical-align: middle;\n",
       "    }\n",
       "\n",
       "    .dataframe tbody tr th {\n",
       "        vertical-align: top;\n",
       "    }\n",
       "\n",
       "    .dataframe thead th {\n",
       "        text-align: right;\n",
       "    }\n",
       "</style>\n",
       "<table border=\"1\" class=\"dataframe\">\n",
       "  <thead>\n",
       "    <tr style=\"text-align: right;\">\n",
       "      <th>y</th>\n",
       "      <th>no</th>\n",
       "      <th>yes</th>\n",
       "      <th>% subscribed</th>\n",
       "    </tr>\n",
       "    <tr>\n",
       "      <th>housing</th>\n",
       "      <th></th>\n",
       "      <th></th>\n",
       "      <th></th>\n",
       "    </tr>\n",
       "  </thead>\n",
       "  <tbody>\n",
       "    <tr>\n",
       "      <th>no</th>\n",
       "      <td>0.832976</td>\n",
       "      <td>0.167024</td>\n",
       "      <td>16.702355</td>\n",
       "    </tr>\n",
       "    <tr>\n",
       "      <th>yes</th>\n",
       "      <td>0.923000</td>\n",
       "      <td>0.077000</td>\n",
       "      <td>7.699960</td>\n",
       "    </tr>\n",
       "  </tbody>\n",
       "</table>\n",
       "</div>"
      ],
      "text/plain": [
       "y              no       yes  % subscribed\n",
       "housing                                  \n",
       "no       0.832976  0.167024     16.702355\n",
       "yes      0.923000  0.077000      7.699960"
      ]
     },
     "metadata": {},
     "output_type": "display_data"
    },
    {
     "data": {
      "text/html": [
       "<div>\n",
       "<style scoped>\n",
       "    .dataframe tbody tr th:only-of-type {\n",
       "        vertical-align: middle;\n",
       "    }\n",
       "\n",
       "    .dataframe tbody tr th {\n",
       "        vertical-align: top;\n",
       "    }\n",
       "\n",
       "    .dataframe thead th {\n",
       "        text-align: right;\n",
       "    }\n",
       "</style>\n",
       "<table border=\"1\" class=\"dataframe\">\n",
       "  <thead>\n",
       "    <tr style=\"text-align: right;\">\n",
       "      <th>y</th>\n",
       "      <th>no</th>\n",
       "      <th>yes</th>\n",
       "      <th>% subscribed</th>\n",
       "    </tr>\n",
       "    <tr>\n",
       "      <th>loan</th>\n",
       "      <th></th>\n",
       "      <th></th>\n",
       "      <th></th>\n",
       "    </tr>\n",
       "  </thead>\n",
       "  <tbody>\n",
       "    <tr>\n",
       "      <th>no</th>\n",
       "      <td>0.873443</td>\n",
       "      <td>0.126557</td>\n",
       "      <td>12.655727</td>\n",
       "    </tr>\n",
       "    <tr>\n",
       "      <th>yes</th>\n",
       "      <td>0.933186</td>\n",
       "      <td>0.066814</td>\n",
       "      <td>6.681391</td>\n",
       "    </tr>\n",
       "  </tbody>\n",
       "</table>\n",
       "</div>"
      ],
      "text/plain": [
       "y           no       yes  % subscribed\n",
       "loan                                  \n",
       "no    0.873443  0.126557     12.655727\n",
       "yes   0.933186  0.066814      6.681391"
      ]
     },
     "metadata": {},
     "output_type": "display_data"
    }
   ],
   "source": [
    "#finding the percentage of subscribers based on whether they have a personal or housing loan\n",
    "loan = pd.crosstab(df['loan'], df['y'], normalize='index')\n",
    "house = pd.crosstab(df['housing'], df['y'], normalize='index')\n",
    "\n",
    "loan['% subscribed'] = loan['yes'] / (loan['yes'] + loan['no']) * 100\n",
    "house['% subscribed'] = house['yes'] / (house['yes'] + house['no']) * 100\n",
    "\n",
    "display(house)\n",
    "display(loan)"
   ]
  },
  {
   "cell_type": "code",
   "execution_count": 162,
   "id": "579c7c3e",
   "metadata": {},
   "outputs": [
    {
     "data": {
      "image/png": "[encoded data removed]",
      "text/plain": [
       "<Figure size 720x288 with 2 Axes>"
      ]
     },
     "metadata": {
      "needs_background": "light"
     },
     "output_type": "display_data"
    }
   ],
   "source": [
    "fig, ax = plt.subplots(1, 2, figsize=(10,4))\n",
    "\n",
    "# Plot the percentage of subscribers by loan category\n",
    "ax[0].bar(loan.index, loan['% subscribed'])\n",
    "ax[0].set_xlabel('Personal Loan')\n",
    "ax[0].set_ylabel('% Subscribed')\n",
    "ax[0].set_title('Percentage of customers who subscribed')\n",
    "\n",
    "# Plot the percentage of subscribers by housing category\n",
    "ax[1].bar(house.index, house['% subscribed'])\n",
    "ax[1].set_xlabel('Housing Loan')\n",
    "ax[1].set_ylabel('% Subscribed')\n",
    "ax[1].set_title('Percentage of customers who subscribed')\n",
    "\n",
    "# Adjust the spacing between subplots\n",
    "plt.subplots_adjust(wspace=0.5)\n",
    "\n",
    "# Display the plot\n",
    "plt.show()\n"
   ]
  },
  {
   "cell_type": "markdown",
   "id": "5cc77073",
   "metadata": {},
   "source": [
    "> Customers who **hadn't taken out a loan** (personal and housing) were more likely to subscribe to the bank's term deposit than those who had loans."
   ]
  },
  {
   "cell_type": "markdown",
   "id": "9c4a2009",
   "metadata": {},
   "source": [
    "##### Default Status"
   ]
  },
  {
   "cell_type": "code",
   "execution_count": 163,
   "id": "24d6cf87",
   "metadata": {},
   "outputs": [
    {
     "data": {
      "text/html": [
       "<div>\n",
       "<style scoped>\n",
       "    .dataframe tbody tr th:only-of-type {\n",
       "        vertical-align: middle;\n",
       "    }\n",
       "\n",
       "    .dataframe tbody tr th {\n",
       "        vertical-align: top;\n",
       "    }\n",
       "\n",
       "    .dataframe thead th {\n",
       "        text-align: right;\n",
       "    }\n",
       "</style>\n",
       "<table border=\"1\" class=\"dataframe\">\n",
       "  <thead>\n",
       "    <tr style=\"text-align: right;\">\n",
       "      <th>y</th>\n",
       "      <th>no</th>\n",
       "      <th>yes</th>\n",
       "      <th>% subscribed</th>\n",
       "    </tr>\n",
       "    <tr>\n",
       "      <th>default</th>\n",
       "      <th></th>\n",
       "      <th></th>\n",
       "      <th></th>\n",
       "    </tr>\n",
       "  </thead>\n",
       "  <tbody>\n",
       "    <tr>\n",
       "      <th>no</th>\n",
       "      <td>0.882039</td>\n",
       "      <td>0.117961</td>\n",
       "      <td>11.796108</td>\n",
       "    </tr>\n",
       "    <tr>\n",
       "      <th>yes</th>\n",
       "      <td>0.936196</td>\n",
       "      <td>0.063804</td>\n",
       "      <td>6.380368</td>\n",
       "    </tr>\n",
       "  </tbody>\n",
       "</table>\n",
       "</div>"
      ],
      "text/plain": [
       "y              no       yes  % subscribed\n",
       "default                                  \n",
       "no       0.882039  0.117961     11.796108\n",
       "yes      0.936196  0.063804      6.380368"
      ]
     },
     "execution_count": 163,
     "metadata": {},
     "output_type": "execute_result"
    }
   ],
   "source": [
    "#Finding the percentage of customers who subscribed based on their default status\n",
    "default = pd.crosstab(df['default'], df['y'], normalize = 'index')\n",
    "default['% subscribed'] = default['yes'] / (default['yes'] + default['no']) * 100\n",
    "\n",
    "default"
   ]
  },
  {
   "cell_type": "markdown",
   "id": "42ddf621",
   "metadata": {},
   "source": [
    "> The customers who have defaulted on previous credits are less likely to subscribe to the term deposit. "
   ]
  },
  {
   "cell_type": "markdown",
   "id": "f421c606",
   "metadata": {},
   "source": [
    "#### Does the time period in which the customer is contacted increase the effectiveness of the campaign?"
   ]
  },
  {
   "cell_type": "markdown",
   "id": "21a9e9e5",
   "metadata": {},
   "source": [
    "#### Month of contact"
   ]
  },
  {
   "cell_type": "code",
   "execution_count": 164,
   "id": "af1171d5",
   "metadata": {},
   "outputs": [
    {
     "data": {
      "text/html": [
       "<div>\n",
       "<style scoped>\n",
       "    .dataframe tbody tr th:only-of-type {\n",
       "        vertical-align: middle;\n",
       "    }\n",
       "\n",
       "    .dataframe tbody tr th {\n",
       "        vertical-align: top;\n",
       "    }\n",
       "\n",
       "    .dataframe thead th {\n",
       "        text-align: right;\n",
       "    }\n",
       "</style>\n",
       "<table border=\"1\" class=\"dataframe\">\n",
       "  <thead>\n",
       "    <tr style=\"text-align: right;\">\n",
       "      <th>y</th>\n",
       "      <th>no</th>\n",
       "      <th>yes</th>\n",
       "      <th>% subscribed</th>\n",
       "    </tr>\n",
       "    <tr>\n",
       "      <th>month</th>\n",
       "      <th></th>\n",
       "      <th></th>\n",
       "      <th></th>\n",
       "    </tr>\n",
       "  </thead>\n",
       "  <tbody>\n",
       "    <tr>\n",
       "      <th>mar</th>\n",
       "      <td>0.480084</td>\n",
       "      <td>0.519916</td>\n",
       "      <td>51.991614</td>\n",
       "    </tr>\n",
       "    <tr>\n",
       "      <th>dec</th>\n",
       "      <td>0.532710</td>\n",
       "      <td>0.467290</td>\n",
       "      <td>46.728972</td>\n",
       "    </tr>\n",
       "    <tr>\n",
       "      <th>sep</th>\n",
       "      <td>0.535406</td>\n",
       "      <td>0.464594</td>\n",
       "      <td>46.459413</td>\n",
       "    </tr>\n",
       "    <tr>\n",
       "      <th>oct</th>\n",
       "      <td>0.562331</td>\n",
       "      <td>0.437669</td>\n",
       "      <td>43.766938</td>\n",
       "    </tr>\n",
       "    <tr>\n",
       "      <th>apr</th>\n",
       "      <td>0.803206</td>\n",
       "      <td>0.196794</td>\n",
       "      <td>19.679400</td>\n",
       "    </tr>\n",
       "    <tr>\n",
       "      <th>feb</th>\n",
       "      <td>0.833522</td>\n",
       "      <td>0.166478</td>\n",
       "      <td>16.647792</td>\n",
       "    </tr>\n",
       "    <tr>\n",
       "      <th>aug</th>\n",
       "      <td>0.889867</td>\n",
       "      <td>0.110133</td>\n",
       "      <td>11.013286</td>\n",
       "    </tr>\n",
       "    <tr>\n",
       "      <th>jun</th>\n",
       "      <td>0.897772</td>\n",
       "      <td>0.102228</td>\n",
       "      <td>10.222805</td>\n",
       "    </tr>\n",
       "    <tr>\n",
       "      <th>nov</th>\n",
       "      <td>0.898489</td>\n",
       "      <td>0.101511</td>\n",
       "      <td>10.151134</td>\n",
       "    </tr>\n",
       "    <tr>\n",
       "      <th>jan</th>\n",
       "      <td>0.898788</td>\n",
       "      <td>0.101212</td>\n",
       "      <td>10.121169</td>\n",
       "    </tr>\n",
       "    <tr>\n",
       "      <th>jul</th>\n",
       "      <td>0.909065</td>\n",
       "      <td>0.090935</td>\n",
       "      <td>9.093546</td>\n",
       "    </tr>\n",
       "    <tr>\n",
       "      <th>may</th>\n",
       "      <td>0.932805</td>\n",
       "      <td>0.067195</td>\n",
       "      <td>6.719454</td>\n",
       "    </tr>\n",
       "  </tbody>\n",
       "</table>\n",
       "</div>"
      ],
      "text/plain": [
       "y            no       yes  % subscribed\n",
       "month                                  \n",
       "mar    0.480084  0.519916     51.991614\n",
       "dec    0.532710  0.467290     46.728972\n",
       "sep    0.535406  0.464594     46.459413\n",
       "oct    0.562331  0.437669     43.766938\n",
       "apr    0.803206  0.196794     19.679400\n",
       "feb    0.833522  0.166478     16.647792\n",
       "aug    0.889867  0.110133     11.013286\n",
       "jun    0.897772  0.102228     10.222805\n",
       "nov    0.898489  0.101511     10.151134\n",
       "jan    0.898788  0.101212     10.121169\n",
       "jul    0.909065  0.090935      9.093546\n",
       "may    0.932805  0.067195      6.719454"
      ]
     },
     "execution_count": 164,
     "metadata": {},
     "output_type": "execute_result"
    }
   ],
   "source": [
    "# Percentage of customers who subscribed based on the month they were contacted\n",
    "month = pd.crosstab(df['month'], df['y'], normalize ='index')\n",
    "\n",
    "month_sorted = month.copy()\n",
    "month_sorted['% subscribed'] = month_sorted['yes'] / (month_sorted['yes'] + month_sorted['no']) * 100\n",
    "month_sorted = month_sorted.sort_values('% subscribed', ascending=False)\n",
    "\n",
    "month_sorted"
   ]
  },
  {
   "cell_type": "code",
   "execution_count": 328,
   "id": "66ac4cf1",
   "metadata": {},
   "outputs": [
    {
     "data": {
      "image/png": "[encoded data removed]",
      "text/plain": [
       "<Figure size 576x360 with 1 Axes>"
      ]
     },
     "metadata": {
      "needs_background": "light"
     },
     "output_type": "display_data"
    }
   ],
   "source": [
    "# Plotting a stacked bar chart of subscription status by month of contact\n",
    "\n",
    "month.plot(kind='bar', stacked=True, figsize=(8, 5))\n",
    "\n",
    "plt.title('Subscription Status by Month of Contact')\n",
    "plt.xlabel('Month')\n",
    "plt.ylabel('Proportion')\n",
    "plt.legend(title='Subscription to Term Deposit')\n",
    "\n",
    "#plt.savefig(\"Classification-Month of contact.png\")\n",
    "plt.show()"
   ]
  },
  {
   "cell_type": "markdown",
   "id": "56c39b01",
   "metadata": {},
   "source": [
    "> - The months of **March, December, September and October** have produced the highest success rates for the marketing campaign indicating that these are the best months to contact the clients. \n",
    "> - The least success rates are in the months of **May and July**. "
   ]
  },
  {
   "cell_type": "markdown",
   "id": "61fad295",
   "metadata": {},
   "source": [
    "### Data Preprocessing"
   ]
  },
  {
   "cell_type": "code",
   "execution_count": 332,
   "id": "7030a54a",
   "metadata": {},
   "outputs": [],
   "source": [
    "#mapping the boolean values\n",
    "\n",
    "df[\"y\"] = df[\"y\"].map({\"yes\":1, \"no\":0})\n",
    "df[\"housing\"] = df[\"housing\"].map({\"yes\":1, \"no\":0})\n",
    "df[\"loan\"] = df[\"loan\"].map({\"yes\":1, \"no\":0})"
   ]
  },
  {
   "cell_type": "code",
   "execution_count": 333,
   "id": "be348b2a",
   "metadata": {},
   "outputs": [],
   "source": [
    "#dropping the duration variable\n",
    "\n",
    "df.drop('duration', axis=1, inplace=True)"
   ]
  },
  {
   "cell_type": "code",
   "execution_count": 334,
   "id": "195b2dac",
   "metadata": {},
   "outputs": [],
   "source": [
    "#Encoding the categorical features\n",
    "\n",
    "df = pd.get_dummies(df)"
   ]
  },
  {
   "cell_type": "code",
   "execution_count": 335,
   "id": "54f3afc4",
   "metadata": {},
   "outputs": [],
   "source": [
    "#seperating the target variable\n",
    "\n",
    "x = df.drop(\"y\", axis = 1)\n",
    "y = df[\"y\"]"
   ]
  },
  {
   "cell_type": "code",
   "execution_count": 336,
   "id": "7970064e",
   "metadata": {},
   "outputs": [],
   "source": [
    "#splitting the data into training and testing sets\n",
    "\n",
    "x_train, x_test, y_train, y_test = train_test_split(x, y, test_size = 0.3, random_state = 21)"
   ]
  },
  {
   "cell_type": "markdown",
   "id": "b35d8193",
   "metadata": {},
   "source": [
    "#### Resampling the data"
   ]
  },
  {
   "cell_type": "markdown",
   "id": "8a7d6126",
   "metadata": {},
   "source": [
    "Since the target class is highly imbalanced the training data is resampled. <br>\n",
    "A combination of under and over sampling has been used using the SMOTE Tomek technique. "
   ]
  },
  {
   "cell_type": "code",
   "execution_count": 337,
   "id": "358fb6f5",
   "metadata": {},
   "outputs": [
    {
     "data": {
      "text/plain": [
       "Counter({0: 27010, 1: 27010})"
      ]
     },
     "execution_count": 337,
     "metadata": {},
     "output_type": "execute_result"
    }
   ],
   "source": [
    "smt = SMOTETomek(sampling_strategy='auto', random_state = 42)\n",
    "x_bal, y_bal = smt.fit_resample(x_train, y_train)\n",
    "\n",
    "Counter(y_bal)"
   ]
  },
  {
   "cell_type": "markdown",
   "id": "804ed6f7",
   "metadata": {},
   "source": [
    "##### Feature Selection"
   ]
  },
  {
   "cell_type": "markdown",
   "id": "664133e2",
   "metadata": {},
   "source": [
    "Feature Selection has been performed for each model using the recursive feature elimination method, with cross validation."
   ]
  },
  {
   "cell_type": "markdown",
   "id": "0790d8e8",
   "metadata": {},
   "source": [
    "### Classification Models"
   ]
  },
  {
   "cell_type": "code",
   "execution_count": 177,
   "id": "53285387",
   "metadata": {},
   "outputs": [],
   "source": [
    "#defining a function to evaluate the model performance\n",
    "\n",
    "def evaluate(model, x_test, y_test):\n",
    "    \n",
    "    pred = model.predict(x_test)\n",
    "    y_score = model.predict_proba(x_test)\n",
    "    \n",
    "    accuracy = metrics.accuracy_score(y_test, pred)\n",
    "    precision = metrics.precision_score(y_test, pred, average='macro')\n",
    "    recall = metrics.recall_score(y_test, pred, average='macro')\n",
    "    f1 = metrics.f1_score(y_test, pred, average='macro')\n",
    "    tn, fp, fn, tp = metrics.confusion_matrix(y_test, pred).ravel()\n",
    "    roc_auc = metrics.roc_auc_score(y_test, y_score[:, 1])\n",
    "    \n",
    "    print(\"TN: {}   FP: {}\\nFN: {}   TP: {}\".format(tn, fp, fn, tp))\n",
    "    print(metrics.classification_report(y_test, pred))\n",
    "    print('Accuracy: %f' % accuracy)\n",
    "    print('Precision: %f' % precision)\n",
    "    print('Recall: %f' % recall)\n",
    "    print('F1 score: %f' % f1)\n",
    "    print('ROC-AUC: %f' % roc_auc)\n",
    "    \n",
    "    #plot the roc-auc curve\n",
    "    plt.figure(figsize = (6,4))\n",
    "    metrics.plot_roc_curve(model, x_test, y_test)\n",
    "    plt.plot([0, 1], [0, 1],'r--')\n",
    "    plt.show()\n",
    "    \n",
    "    "
   ]
  },
  {
   "cell_type": "markdown",
   "id": "6484493a",
   "metadata": {},
   "source": [
    "#### 1. Logistic Regression"
   ]
  },
  {
   "cell_type": "code",
   "execution_count": 183,
   "id": "13d62504",
   "metadata": {
    "scrolled": true
   },
   "outputs": [
    {
     "name": "stdout",
     "output_type": "stream",
     "text": [
      "Optimum number of features: 37\n"
     ]
    },
    {
     "data": {
      "text/plain": [
       "array(['job_admin.', 'job_blue-collar', 'job_entrepreneur',\n",
       "       'job_housemaid', 'job_management', 'job_retired',\n",
       "       'job_self-employed', 'job_services', 'job_student',\n",
       "       'job_technician', 'job_unemployed', 'job_unknown',\n",
       "       'marital_divorced', 'marital_married', 'marital_single',\n",
       "       'education_primary', 'education_secondary', 'education_tertiary',\n",
       "       'education_unknown', 'contact_cellular', 'contact_telephone',\n",
       "       'contact_unknown', 'month_apr', 'month_aug', 'month_dec',\n",
       "       'month_feb', 'month_jan', 'month_jul', 'month_jun', 'month_mar',\n",
       "       'month_may', 'month_nov', 'month_oct', 'month_sep',\n",
       "       'poutcome_failure', 'poutcome_other', 'poutcome_unknown'],\n",
       "      dtype=object)"
      ]
     },
     "execution_count": 183,
     "metadata": {},
     "output_type": "execute_result"
    }
   ],
   "source": [
    "#feature selection and initial fit\n",
    "\n",
    "lr = linear_model.LogisticRegression()\n",
    "\n",
    "rfecv = RFECV(estimator=lr, \n",
    "              step=1, \n",
    "              cv=5)\n",
    "rfecv.fit(x_bal, y_bal)\n",
    "print(\"Optimum number of features: %d\" % rfecv.n_features_)\n",
    "\n",
    "mask = rfecv.get_support()\n",
    "features = np.array(x_bal.columns) \n",
    "best_features = features[mask]\n",
    "\n",
    "best_features"
   ]
  },
  {
   "cell_type": "code",
   "execution_count": 184,
   "id": "32a013a7",
   "metadata": {},
   "outputs": [
    {
     "name": "stdout",
     "output_type": "stream",
     "text": [
      "TN: 11821   FP: 187\n",
      "FN: 1253   TP: 303\n",
      "              precision    recall  f1-score   support\n",
      "\n",
      "           0       0.90      0.98      0.94     12008\n",
      "           1       0.62      0.19      0.30      1556\n",
      "\n",
      "    accuracy                           0.89     13564\n",
      "   macro avg       0.76      0.59      0.62     13564\n",
      "weighted avg       0.87      0.89      0.87     13564\n",
      "\n",
      "Accuracy: 0.893837\n",
      "Precision: 0.761264\n",
      "Recall: 0.589579\n",
      "F1 score: 0.619388\n",
      "ROC-AUC: 0.756603\n"
     ]
    },
    {
     "data": {
      "text/plain": [
       "<Figure size 432x288 with 0 Axes>"
      ]
     },
     "metadata": {},
     "output_type": "display_data"
    },
    {
     "data": {
      "image/png": "[encoded data removed]",
      "text/plain": [
       "<Figure size 576x432 with 1 Axes>"
      ]
     },
     "metadata": {
      "needs_background": "light"
     },
     "output_type": "display_data"
    }
   ],
   "source": [
    "#fitting the model only with the selected features\n",
    "\n",
    "x_train_rfe = x_bal[best_features]\n",
    "x_test_rfe = x_test[best_features]\n",
    "\n",
    "lr.fit(x_train_rfe, y_bal)\n",
    "evaluate(lr, x_test_rfe, y_test)"
   ]
  },
  {
   "cell_type": "markdown",
   "id": "e47fc3f9",
   "metadata": {},
   "source": [
    "#### 2. Decision Tree"
   ]
  },
  {
   "cell_type": "code",
   "execution_count": 186,
   "id": "6f2993e9",
   "metadata": {},
   "outputs": [
    {
     "name": "stdout",
     "output_type": "stream",
     "text": [
      "Optimum number of features: 46\n"
     ]
    },
    {
     "data": {
      "text/plain": [
       "array(['age', 'balance', 'housing', 'loan', 'day', 'campaign', 'pdays',\n",
       "       'previous', 'job_admin.', 'job_blue-collar', 'job_entrepreneur',\n",
       "       'job_housemaid', 'job_management', 'job_retired',\n",
       "       'job_self-employed', 'job_services', 'job_student',\n",
       "       'job_technician', 'job_unemployed', 'marital_divorced',\n",
       "       'marital_married', 'marital_single', 'education_primary',\n",
       "       'education_secondary', 'education_tertiary', 'education_unknown',\n",
       "       'default_no', 'contact_cellular', 'contact_telephone',\n",
       "       'contact_unknown', 'month_apr', 'month_aug', 'month_dec',\n",
       "       'month_feb', 'month_jan', 'month_jul', 'month_jun', 'month_mar',\n",
       "       'month_may', 'month_nov', 'month_oct', 'month_sep',\n",
       "       'poutcome_failure', 'poutcome_other', 'poutcome_success',\n",
       "       'poutcome_unknown'], dtype=object)"
      ]
     },
     "execution_count": 186,
     "metadata": {},
     "output_type": "execute_result"
    }
   ],
   "source": [
    "#feature selection and initial fit\n",
    "\n",
    "dt = DecisionTreeClassifier(random_state=42)\n",
    "\n",
    "rfecv = RFECV(estimator=dt, \n",
    "              step=1, \n",
    "              cv=5)\n",
    "rfecv.fit(x_bal, y_bal)\n",
    "print(\"Optimum number of features: %d\" % rfecv.n_features_)\n",
    "\n",
    "mask = rfecv.get_support()\n",
    "features = np.array(x_bal.columns) \n",
    "best_features = features[mask]\n",
    "\n",
    "best_features"
   ]
  },
  {
   "cell_type": "code",
   "execution_count": 187,
   "id": "627a77a8",
   "metadata": {},
   "outputs": [
    {
     "name": "stdout",
     "output_type": "stream",
     "text": [
      "TN: 10701   FP: 1307\n",
      "FN: 1038   TP: 518\n",
      "              precision    recall  f1-score   support\n",
      "\n",
      "           0       0.91      0.89      0.90     12008\n",
      "           1       0.28      0.33      0.31      1556\n",
      "\n",
      "    accuracy                           0.83     13564\n",
      "   macro avg       0.60      0.61      0.60     13564\n",
      "weighted avg       0.84      0.83      0.83     13564\n",
      "\n",
      "Accuracy: 0.827116\n",
      "Precision: 0.597706\n",
      "Recall: 0.612030\n",
      "F1 score: 0.603834\n",
      "ROC-AUC: 0.612030\n"
     ]
    },
    {
     "data": {
      "text/plain": [
       "<Figure size 432x288 with 0 Axes>"
      ]
     },
     "metadata": {},
     "output_type": "display_data"
    },
    {
     "data": {
      "image/png": "[encoded data removed]",
      "text/plain": [
       "<Figure size 576x432 with 1 Axes>"
      ]
     },
     "metadata": {
      "needs_background": "light"
     },
     "output_type": "display_data"
    }
   ],
   "source": [
    "#fitting the model only with the selected features\n",
    "\n",
    "x_train_rfe = x_bal[best_features]\n",
    "x_test_rfe = x_test[best_features]\n",
    "\n",
    "dt.fit(x_train_rfe, y_bal)\n",
    "evaluate(dt, x_test_rfe, y_test)"
   ]
  },
  {
   "cell_type": "markdown",
   "id": "05264199",
   "metadata": {},
   "source": [
    "##### Hyper-parameter Tuning"
   ]
  },
  {
   "cell_type": "code",
   "execution_count": 188,
   "id": "812901a6",
   "metadata": {
    "scrolled": false
   },
   "outputs": [
    {
     "name": "stdout",
     "output_type": "stream",
     "text": [
      "Fitting 5 folds for each of 10 candidates, totalling 50 fits\n",
      "DecisionTreeClassifier(max_features=5, min_samples_leaf=4, random_state=42)\n",
      "TN: 11258   FP: 750\n",
      "FN: 1136   TP: 420\n",
      "              precision    recall  f1-score   support\n",
      "\n",
      "           0       0.91      0.94      0.92     12008\n",
      "           1       0.36      0.27      0.31      1556\n",
      "\n",
      "    accuracy                           0.86     13564\n",
      "   macro avg       0.63      0.60      0.62     13564\n",
      "weighted avg       0.85      0.86      0.85     13564\n",
      "\n",
      "Accuracy: 0.860955\n",
      "Precision: 0.633659\n",
      "Recall: 0.603732\n",
      "F1 score: 0.615428\n",
      "ROC-AUC: 0.700852\n"
     ]
    },
    {
     "data": {
      "text/plain": [
       "<Figure size 432x288 with 0 Axes>"
      ]
     },
     "metadata": {},
     "output_type": "display_data"
    },
    {
     "data": {
      "image/png": "[encoded data removed]",
      "text/plain": [
       "<Figure size 576x432 with 1 Axes>"
      ]
     },
     "metadata": {
      "needs_background": "light"
     },
     "output_type": "display_data"
    }
   ],
   "source": [
    "param = {\"max_depth\": [3, None],\n",
    "              \"max_features\": [1,2,3,4,5],\n",
    "              \"min_samples_leaf\": [1,2,3,4,5],\n",
    "              \"criterion\": [\"gini\", \"entropy\"]}\n",
    "\n",
    "dt_rs = RandomizedSearchCV(estimator=dt, param_distributions=param, \n",
    "                           cv=5, verbose=2, n_jobs=-1)\n",
    "\n",
    "dt_rs.fit(x_train_rfe, y_bal)\n",
    "print(dt_rs.best_estimator_)\n",
    "\n",
    "dt_cv = dt_rs.best_estimator_\n",
    "\n",
    "evaluate(dt_cv, x_test_rfe, y_test)"
   ]
  },
  {
   "cell_type": "markdown",
   "id": "aa5fdbbe",
   "metadata": {},
   "source": [
    "There has been an improvement following hyper-parameter tuning"
   ]
  },
  {
   "cell_type": "markdown",
   "id": "15e5b5da",
   "metadata": {},
   "source": [
    "#### 3. Random Forest"
   ]
  },
  {
   "cell_type": "code",
   "execution_count": 190,
   "id": "b37fc1c7",
   "metadata": {},
   "outputs": [
    {
     "name": "stdout",
     "output_type": "stream",
     "text": [
      "Optimum number of features: 38\n"
     ]
    },
    {
     "data": {
      "text/plain": [
       "array(['age', 'balance', 'housing', 'loan', 'day', 'campaign', 'pdays',\n",
       "       'previous', 'job_admin.', 'job_blue-collar', 'job_entrepreneur',\n",
       "       'job_management', 'job_self-employed', 'job_services',\n",
       "       'job_technician', 'job_unemployed', 'marital_divorced',\n",
       "       'marital_married', 'marital_single', 'education_primary',\n",
       "       'education_secondary', 'education_tertiary', 'education_unknown',\n",
       "       'contact_cellular', 'contact_telephone', 'contact_unknown',\n",
       "       'month_apr', 'month_aug', 'month_feb', 'month_jan', 'month_jul',\n",
       "       'month_jun', 'month_may', 'month_nov', 'poutcome_failure',\n",
       "       'poutcome_other', 'poutcome_success', 'poutcome_unknown'],\n",
       "      dtype=object)"
      ]
     },
     "execution_count": 190,
     "metadata": {},
     "output_type": "execute_result"
    }
   ],
   "source": [
    "#feature selection and inital fit\n",
    "\n",
    "rf = RandomForestClassifier(random_state =42)\n",
    "rfecv = RFECV(estimator=rf, \n",
    "              step=1, \n",
    "              cv=5)\n",
    "rfecv.fit(x_bal, y_bal)\n",
    "print(\"Optimum number of features: %d\" % rfecv.n_features_)\n",
    "\n",
    "mask = rfecv.get_support()\n",
    "features = np.array(x_bal.columns) \n",
    "best_features = features[mask]\n",
    "\n",
    "best_features"
   ]
  },
  {
   "cell_type": "code",
   "execution_count": 191,
   "id": "ca560b31",
   "metadata": {},
   "outputs": [
    {
     "name": "stdout",
     "output_type": "stream",
     "text": [
      "TN: 11600   FP: 408\n",
      "FN: 1092   TP: 464\n",
      "              precision    recall  f1-score   support\n",
      "\n",
      "           0       0.91      0.97      0.94     12008\n",
      "           1       0.53      0.30      0.38      1556\n",
      "\n",
      "    accuracy                           0.89     13564\n",
      "   macro avg       0.72      0.63      0.66     13564\n",
      "weighted avg       0.87      0.89      0.88     13564\n",
      "\n",
      "Accuracy: 0.889413\n",
      "Precision: 0.723036\n",
      "Recall: 0.632112\n",
      "F1 score: 0.660739\n",
      "ROC-AUC: 0.772304\n"
     ]
    },
    {
     "data": {
      "text/plain": [
       "<Figure size 432x288 with 0 Axes>"
      ]
     },
     "metadata": {},
     "output_type": "display_data"
    },
    {
     "data": {
      "image/png": "[encoded data removed]",
      "text/plain": [
       "<Figure size 576x432 with 1 Axes>"
      ]
     },
     "metadata": {
      "needs_background": "light"
     },
     "output_type": "display_data"
    }
   ],
   "source": [
    "#fitting the models only with the selected features\n",
    "\n",
    "x_train_rfe = x_bal[best_features]\n",
    "x_test_rfe = x_test[best_features]\n",
    "\n",
    "rf.fit(x_train_rfe, y_bal)\n",
    "evaluate(rf, x_test_rfe, y_test)"
   ]
  },
  {
   "cell_type": "markdown",
   "id": "be9f2a71",
   "metadata": {},
   "source": [
    "##### Hyper-parameter Tuning"
   ]
  },
  {
   "cell_type": "code",
   "execution_count": 192,
   "id": "5814dacc",
   "metadata": {},
   "outputs": [
    {
     "name": "stdout",
     "output_type": "stream",
     "text": [
      "Fitting 5 folds for each of 10 candidates, totalling 50 fits\n",
      "RandomForestClassifier(max_features='log2', random_state=42)\n",
      "TN: 11605   FP: 403\n",
      "FN: 1084   TP: 472\n",
      "              precision    recall  f1-score   support\n",
      "\n",
      "           0       0.91      0.97      0.94     12008\n",
      "           1       0.54      0.30      0.39      1556\n",
      "\n",
      "    accuracy                           0.89     13564\n",
      "   macro avg       0.73      0.63      0.66     13564\n",
      "weighted avg       0.87      0.89      0.88     13564\n",
      "\n",
      "Accuracy: 0.890372\n",
      "Precision: 0.727000\n",
      "Recall: 0.634890\n",
      "F1 score: 0.664054\n",
      "ROC-AUC: 0.770588\n"
     ]
    },
    {
     "data": {
      "text/plain": [
       "<Figure size 432x288 with 0 Axes>"
      ]
     },
     "metadata": {},
     "output_type": "display_data"
    },
    {
     "data": {
      "image/png": "[encoded data removed]",
      "text/plain": [
       "<Figure size 576x432 with 1 Axes>"
      ]
     },
     "metadata": {
      "needs_background": "light"
     },
     "output_type": "display_data"
    }
   ],
   "source": [
    "param = { \n",
    "'max_features': ['auto', 'sqrt', 'log2'],\n",
    "'max_depth' : [2,3,4,5, None],\n",
    "'criterion' :['gini', 'entropy'],\n",
    "'min_samples_leaf': [1,2,3,4,5]\n",
    "             }\n",
    "\n",
    "rf_rs = RandomizedSearchCV(estimator=rf, param_distributions=param, \n",
    "                           cv=5, verbose=2, n_jobs=-1)\n",
    "\n",
    "rf_rs.fit(x_train_rfe, y_bal)\n",
    "print(rf_rs.best_estimator_)\n",
    "\n",
    "rf_cv = rf_rs.best_estimator_\n",
    "\n",
    "evaluate(rf_cv, x_test_rfe, y_test)"
   ]
  },
  {
   "cell_type": "markdown",
   "id": "e3a7b6cd",
   "metadata": {},
   "source": [
    "There has been an improvement after hyper-parameter tuning"
   ]
  },
  {
   "cell_type": "markdown",
   "id": "34873cfb",
   "metadata": {},
   "source": [
    "##### Feature Importance"
   ]
  },
  {
   "cell_type": "code",
   "execution_count": null,
   "id": "ab9c893c",
   "metadata": {},
   "outputs": [],
   "source": [
    "# Create a series containing feature importances from the model and feature names from the training data\n",
    "feature_importances = pd.Series(rf_cv.feature_importances_, index=x_train_rfe.columns).sort_values(ascending=False)\n",
    "\n",
    "# Plot a simple bar chart\n",
    "#plt.figure(figsize=(6,4))\n",
    "feature_importances.plot.bar()\n",
    "plt.show()\n"
   ]
  },
  {
   "cell_type": "markdown",
   "id": "7ab6d8a3",
   "metadata": {},
   "source": [
    "#### 4. XGBoost"
   ]
  },
  {
   "cell_type": "code",
   "execution_count": null,
   "id": "d4e73343",
   "metadata": {},
   "outputs": [],
   "source": [
    "xg = xgb.XGBClassifier(objective = \"binary:logistic\", missing = 1, seed = 42)\n",
    "xg.fit(x_bal, y_bal, verbose = True, early_stopping_rounds = 10, \n",
    "      eval_metric = \"aucpr\", \n",
    "      eval_set = [(x_test, y_test)])\n",
    "\n",
    "evaluate(xg, x_test, y_test)"
   ]
  },
  {
   "cell_type": "code",
   "execution_count": 194,
   "id": "27d536a2",
   "metadata": {},
   "outputs": [
    {
     "name": "stdout",
     "output_type": "stream",
     "text": [
      "Optimum number of features: 40\n"
     ]
    },
    {
     "data": {
      "text/plain": [
       "array(['housing', 'loan', 'job_admin.', 'job_blue-collar',\n",
       "       'job_entrepreneur', 'job_housemaid', 'job_management',\n",
       "       'job_retired', 'job_self-employed', 'job_services', 'job_student',\n",
       "       'job_technician', 'job_unemployed', 'job_unknown',\n",
       "       'marital_divorced', 'marital_married', 'marital_single',\n",
       "       'education_primary', 'education_secondary', 'education_tertiary',\n",
       "       'education_unknown', 'contact_cellular', 'contact_telephone',\n",
       "       'contact_unknown', 'month_apr', 'month_aug', 'month_dec',\n",
       "       'month_feb', 'month_jan', 'month_jul', 'month_jun', 'month_mar',\n",
       "       'month_may', 'month_nov', 'month_oct', 'month_sep',\n",
       "       'poutcome_failure', 'poutcome_other', 'poutcome_success',\n",
       "       'poutcome_unknown'], dtype=object)"
      ]
     },
     "execution_count": 194,
     "metadata": {},
     "output_type": "execute_result"
    }
   ],
   "source": [
    "#feature selection and inital fit\n",
    "\n",
    "xg = xgb.XGBClassifier(objective = \"binary:logistic\", missing = 1, seed = 42)\n",
    "\n",
    "rfecv = RFECV(estimator=xg, \n",
    "              step=1, \n",
    "              cv=5)\n",
    "rfecv.fit(x_bal, y_bal)\n",
    "print(\"Optimum number of features: %d\" % rfecv.n_features_)\n",
    "\n",
    "mask = rfecv.get_support()\n",
    "features = np.array(x_bal.columns) \n",
    "best_features = features[mask]\n",
    "\n",
    "best_features"
   ]
  },
  {
   "cell_type": "code",
   "execution_count": 195,
   "id": "45acf43b",
   "metadata": {},
   "outputs": [
    {
     "name": "stdout",
     "output_type": "stream",
     "text": [
      "TN: 11625   FP: 383\n",
      "FN: 1110   TP: 446\n",
      "              precision    recall  f1-score   support\n",
      "\n",
      "           0       0.91      0.97      0.94     12008\n",
      "           1       0.54      0.29      0.37      1556\n",
      "\n",
      "    accuracy                           0.89     13564\n",
      "   macro avg       0.73      0.63      0.66     13564\n",
      "weighted avg       0.87      0.89      0.87     13564\n",
      "\n",
      "Accuracy: 0.889929\n",
      "Precision: 0.725418\n",
      "Recall: 0.627368\n",
      "F1 score: 0.656832\n",
      "ROC-AUC: 0.759436\n"
     ]
    },
    {
     "data": {
      "text/plain": [
       "<Figure size 432x288 with 0 Axes>"
      ]
     },
     "metadata": {},
     "output_type": "display_data"
    },
    {
     "data": {
      "image/png": "[encoded data removed]",
      "text/plain": [
       "<Figure size 576x432 with 1 Axes>"
      ]
     },
     "metadata": {
      "needs_background": "light"
     },
     "output_type": "display_data"
    }
   ],
   "source": [
    "#fitting the model only with the selected features\n",
    "x_train_rfe = x_bal[best_features]\n",
    "x_test_rfe = x_test[best_features]\n",
    "\n",
    "xg.fit(x_train_rfe, y_bal)\n",
    "evaluate(xg, x_test_rfe, y_test)"
   ]
  },
  {
   "cell_type": "markdown",
   "id": "b02ff698",
   "metadata": {},
   "source": [
    "##### Hyper-parameter Tuning"
   ]
  },
  {
   "cell_type": "code",
   "execution_count": 197,
   "id": "908a5d81",
   "metadata": {},
   "outputs": [
    {
     "name": "stdout",
     "output_type": "stream",
     "text": [
      "Fitting 5 folds for each of 10 candidates, totalling 50 fits\n",
      "XGBClassifier(base_score=None, booster=None, callbacks=None,\n",
      "              colsample_bylevel=0.2, colsample_bynode=None,\n",
      "              colsample_bytree=None, early_stopping_rounds=None,\n",
      "              enable_categorical=False, eval_metric=None, feature_types=None,\n",
      "              gamma=None, gpu_id=None, grow_policy=None, importance_type=None,\n",
      "              interaction_constraints=None, learning_rate=0.5, max_bin=None,\n",
      "              max_cat_threshold=None, max_cat_to_onehot=None,\n",
      "              max_delta_step=None, max_depth=6, max_leaves=None,\n",
      "              min_child_weight=None, missing=1, monotone_constraints=None,\n",
      "              n_estimators=100, n_jobs=None, num_parallel_tree=None,\n",
      "              predictor=None, random_state=None, ...)\n",
      "TN: 11679   FP: 329\n",
      "FN: 1141   TP: 415\n",
      "              precision    recall  f1-score   support\n",
      "\n",
      "           0       0.91      0.97      0.94     12008\n",
      "           1       0.56      0.27      0.36      1556\n",
      "\n",
      "    accuracy                           0.89     13564\n",
      "   macro avg       0.73      0.62      0.65     13564\n",
      "weighted avg       0.87      0.89      0.87     13564\n",
      "\n",
      "Accuracy: 0.891625\n",
      "Precision: 0.734397\n",
      "Recall: 0.619656\n",
      "F1 score: 0.650831\n",
      "ROC-AUC: 0.758689\n"
     ]
    },
    {
     "data": {
      "text/plain": [
       "<Figure size 432x288 with 0 Axes>"
      ]
     },
     "metadata": {},
     "output_type": "display_data"
    },
    {
     "data": {
      "image/png": "[encoded data removed]",
      "text/plain": [
       "<Figure size 576x432 with 1 Axes>"
      ]
     },
     "metadata": {
      "needs_background": "light"
     },
     "output_type": "display_data"
    }
   ],
   "source": [
    "params = { 'max_depth': [3,6],\n",
    "           'learning_rate': [0.10, 0.20, 0.50],\n",
    "           'colsample_bylevel': [0.2, 0.3, 0.4]\n",
    "         }\n",
    "\n",
    "xg_rs = RandomizedSearchCV(estimator=xg, param_distributions=params,\n",
    "                           cv = 5, verbose=2, n_jobs=-1)\n",
    "\n",
    "xg_rs.fit(x_train_rfe, y_bal)\n",
    "print(xg_rs.best_estimator_)\n",
    "\n",
    "xg_cv = xg_rs.best_estimator_\n",
    "\n",
    "evaluate(xg_cv, x_test_rfe, y_test)"
   ]
  },
  {
   "cell_type": "markdown",
   "id": "05671283",
   "metadata": {},
   "source": [
    "There is an improvement following hyper-parameter tuning"
   ]
  },
  {
   "cell_type": "markdown",
   "id": "583fbb04",
   "metadata": {},
   "source": [
    "##### Feature importance"
   ]
  },
  {
   "cell_type": "code",
   "execution_count": null,
   "id": "3951f4ff",
   "metadata": {},
   "outputs": [],
   "source": [
    "# Create a series containing feature importances from the model and feature names from the training data\n",
    "feature_importances = pd.Series(xg_cv.feature_importances_, index=x_train_rfe.columns).sort_values(ascending=False)\n",
    "\n",
    "# Plot a simple bar chart\n",
    "#plt.figure(figsize=(6,4))\n",
    "feature_importances.plot.bar()\n",
    "plt.show()\n"
   ]
  },
  {
   "cell_type": "markdown",
   "id": "93d2c746",
   "metadata": {},
   "source": [
    "### Performance Evaluation"
   ]
  },
  {
   "cell_type": "code",
   "execution_count": 339,
   "id": "6c926f7a",
   "metadata": {},
   "outputs": [
    {
     "data": {
      "image/png": "[encoded data removed]",
      "text/plain": [
       "<Figure size 576x360 with 1 Axes>"
      ]
     },
     "metadata": {
      "needs_background": "light"
     },
     "output_type": "display_data"
    }
   ],
   "source": [
    "data = {\"Logistic Regression\": 0.76,\n",
    "        \"Decision Tree\": 0.70,\n",
    "       \"Random Forest\": 0.77,\n",
    "       \"XG Boost\": 0.76}\n",
    "\n",
    "plt.figure(figsize = (8,5))\n",
    "plt.bar(list(data.keys()), list(data.values()), color=(0.2, 0.4, 0.6, 0.6))\n",
    "\n",
    "for i in range(len(data.keys())):\n",
    "    plt.text(i,list(data.values())[i],list(data.values())[i])\n",
    "\n",
    "plt.xlabel(\"Model\")\n",
    "plt.ylabel(\"ROC-AUC\")\n",
    "plt.ylim(0.4,1)\n",
    "plt.title(\"Performance of Classification models\")\n",
    "\n",
    "#plt.savefig(\"Classification - Performance.png\")\n",
    "plt.show()"
   ]
  },
  {
   "cell_type": "markdown",
   "id": "9fbe9e0c",
   "metadata": {},
   "source": [
    "The random forest model has the best performance"
   ]
  },
  {
   "cell_type": "code",
   "execution_count": null,
   "id": "1b46ac21",
   "metadata": {},
   "outputs": [],
   "source": []
  }
 ],
 "metadata": {
  "kernelspec": {
   "display_name": "Python 3",
   "language": "python",
   "name": "python3"
  },
  "language_info": {
   "codemirror_mode": {
    "name": "ipython",
    "version": 3
   },
   "file_extension": ".py",
   "mimetype": "text/x-python",
   "name": "python",
   "nbconvert_exporter": "python",
   "pygments_lexer": "ipython3",
   "version": "3.8.8"
  }
 },
 "nbformat": 4,
 "nbformat_minor": 5
}
